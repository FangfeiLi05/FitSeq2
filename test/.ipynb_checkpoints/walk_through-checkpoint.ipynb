{
 "cells": [
  {
   "cell_type": "markdown",
   "metadata": {},
   "source": [
    "# FitSeq2.0\n",
    "In this notebook we walk through an example use case, generating data from simulation and then inferring fitness. Though we expect most users will want to use our code to infer fitness on their own experimental datasets, we include instructions on how to generate simulated data for the sake of completeness."
   ]
  },
  {
   "cell_type": "markdown",
   "metadata": {},
   "source": [
    "1. First we install Python packages that required"
   ]
  },
  {
   "cell_type": "code",
   "execution_count": null,
   "metadata": {},
   "outputs": [],
   "source": [
    "!pip install -r ../requirements.txt"
   ]
  },
  {
   "cell_type": "markdown",
   "metadata": {},
   "source": [
    "2. Then we generate the input files required to run a simulation."
   ]
  },
  {
   "cell_type": "code",
   "execution_count": 1,
   "metadata": {},
   "outputs": [],
   "source": [
    "# input for fitmutsimu_run.py\n",
    "import numpy as np\n",
    "import itertools\n",
    "import csv\n",
    "\n",
    "dir_simulation = './'\n",
    "\n",
    "lineages_num = int(1e4)\n",
    "\n",
    "delta_t = 4\n",
    "t_seq = np.arange(0, delta_t*6, delta_t)\n",
    "\n",
    "tmp_1 = {'0':t_seq, \n",
    "         '1':20*np.ones(np.shape(t_seq)), \n",
    "         '2':50*np.ones(np.shape(t_seq)), \n",
    "         '3':100*np.ones(np.shape(t_seq))}\n",
    "\n",
    "tmp = list(itertools.zip_longest(*list(tmp_1.values())))\n",
    "with open(dir_simulation + 'simu_input_time_points.csv', 'w') as f:\n",
    "    w = csv.writer(f)\n",
    "    w.writerows(tmp)\n",
    "        \n",
    "        \n",
    "        \n",
    "####################\n",
    "# initial cell number distribution\n",
    "np.random.seed(10)\n",
    "param_a = 100\n",
    "param_b = 2.5\n",
    "mean_value = param_a\n",
    "variance_value = 2 * param_a * param_b\n",
    "param_k = mean_value**2/variance_value\n",
    "param_theta = variance_value/mean_value\n",
    "n0 = np.random.gamma(param_k, param_theta, lineages_num).astype('int') \n",
    "\n",
    "\n",
    "step_size = 0.001\n",
    "np.random.seed(5)\n",
    "s = np.random.normal(0, 0.15, lineages_num)\n",
    "s_norm = s - np.dot(s, n0)/np.sum(n0) # normalize the fitness to relative fitness (relative to the mean fitness)\n",
    "    \n",
    "s_lim_left, s_lim_right = -1, 1\n",
    "s_norm[s_norm < s_lim_left] = s_lim_left\n",
    "s_norm[s_norm > s_lim_right] = s_lim_right\n",
    "       \n",
    "tmp_2 = {'0':s_norm, '1':n0}\n",
    "tmp = list(itertools.zip_longest(*list(tmp_2.values())))\n",
    "with open(dir_simulation + 'simu_input_fitness.csv', 'w') as f:\n",
    "    w = csv.writer(f)\n",
    "    w.writerows(tmp)\n",
    "        \n"
   ]
  },
  {
   "cell_type": "markdown",
   "metadata": {},
   "source": [
    "3. Then we run the commend (fitseqsimu_run.py) to generate simulated data."
   ]
  },
  {
   "cell_type": "code",
   "execution_count": 2,
   "metadata": {},
   "outputs": [
    {
     "data": {
      "text/plain": [
       "0"
      ]
     },
     "execution_count": 2,
     "metadata": {},
     "output_type": "execute_result"
    }
   ],
   "source": [
    "import os\n",
    "\n",
    "dir_simulation = './'\n",
    "dir_code = '../main_code/'\n",
    "        \n",
    "os.system('python ' + dir_code + 'fitseqsimu_run.py -t '\n",
    "              + dir_simulation + 'simu_input_time_points.csv -s '\n",
    "              + dir_simulation + 'simu_input_fitness.csv -o '\n",
    "              + dir_simulation + 'test')\n"
   ]
  },
  {
   "cell_type": "markdown",
   "metadata": {},
   "source": [
    "4. Next, we generate the input files required to run the inference algorithm."
   ]
  },
  {
   "cell_type": "code",
   "execution_count": 3,
   "metadata": {},
   "outputs": [],
   "source": [
    "# input for fitseq2_run.py\n",
    "import numpy as np\n",
    "import pandas as pd\n",
    "import itertools\n",
    "import csv\n",
    "\n",
    "dir_simulation = './'\n",
    "dir_result = './'\n",
    "\n",
    "csv_input = pd.read_csv(dir_simulation + 'simu_input_time_points.csv', low_memory=False, header=None)\n",
    "t_seq = np.array(csv_input[0][~pd.isnull(csv_input[0])], dtype=float)\n",
    "\n",
    "csv_input = pd.read_csv(dir_simulation + 'simu_input_fitness.csv', low_memory=False, header=None)\n",
    "n0_array = np.array(csv_input[1][~pd.isnull(csv_input[1])], dtype=float)\n",
    "cell_depth_seq = np.sum(n0_array) * np.ones(t_seq.shape) # total cell number at the bottleneck\n",
    "    \n",
    "input_tmp = {'0':t_seq, '1':cell_depth_seq}\n",
    "tmp = list(itertools.zip_longest(*list(input_tmp.values())))\n",
    "with open(dir_result + 'fitseq_input_time_points.csv', 'w') as f:\n",
    "    w = csv.writer(f)\n",
    "    w.writerows(tmp)\n"
   ]
  },
  {
   "cell_type": "markdown",
   "metadata": {},
   "source": [
    "5. Finally we run the commend (fitseq2_run.py) to infer fitness of each genotype using simulated data."
   ]
  },
  {
   "cell_type": "code",
   "execution_count": 4,
   "metadata": {},
   "outputs": [
    {
     "data": {
      "text/plain": [
       "0"
      ]
     },
     "execution_count": 4,
     "metadata": {},
     "output_type": "execute_result"
    }
   ],
   "source": [
    "import os\n",
    "\n",
    "dir_code = '../main_code/'\n",
    "dir_simulation = './'\n",
    "dir_result = './'\n",
    "\n",
    "os.system('python ' + dir_code + 'fitseq2_run.py -i ' \n",
    "          + dir_simulation + 'test_0_EvoSimulation_Read_Number.csv -t '\n",
    "          + dir_result + 'fitseq_input_time_points.csv -o ' \n",
    "          + dir_result + 'test')\n"
   ]
  },
  {
   "cell_type": "markdown",
   "metadata": {},
   "source": [
    "6. Additonly, we also include a Python re-coded version of the MATLAB tool FitSeq (fitseq1_run.py)."
   ]
  },
  {
   "cell_type": "code",
   "execution_count": 6,
   "metadata": {},
   "outputs": [
    {
     "data": {
      "text/plain": [
       "0"
      ]
     },
     "execution_count": 6,
     "metadata": {},
     "output_type": "execute_result"
    }
   ],
   "source": [
    "import os\n",
    "\n",
    "dir_code = '../main_code/old_version/'\n",
    "dir_simulation = './'\n",
    "dir_result = './'\n",
    "\n",
    "os.system('python ' + dir_code + 'fitseq_run.py -i ' \n",
    "          + dir_simulation + 'test_0_EvoSimulation_Read_Number.csv -t '\n",
    "          + dir_result + 'fitseq_input_time_points.csv -o ' \n",
    "          + dir_result + 'test_old')\n"
   ]
  },
  {
   "cell_type": "code",
   "execution_count": null,
   "metadata": {},
   "outputs": [],
   "source": []
  }
 ],
 "metadata": {
  "kernelspec": {
   "display_name": "Python 3",
   "language": "python",
   "name": "python3"
  },
  "language_info": {
   "codemirror_mode": {
    "name": "ipython",
    "version": 3
   },
   "file_extension": ".py",
   "mimetype": "text/x-python",
   "name": "python",
   "nbconvert_exporter": "python",
   "pygments_lexer": "ipython3",
   "version": "3.8.5"
  }
 },
 "nbformat": 4,
 "nbformat_minor": 4
}
