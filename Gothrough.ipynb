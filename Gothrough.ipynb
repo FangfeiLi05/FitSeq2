{
 "cells": [
  {
   "cell_type": "code",
   "execution_count": 4,
   "id": "718c9f3d-dfe8-47a2-a68c-ac89b7520aa7",
   "metadata": {},
   "outputs": [
    {
     "name": "stderr",
     "output_type": "stream",
     "text": [
      "100%|██████████| 21/21 [00:01<00:00, 15.80it/s]\n"
     ]
    },
    {
     "data": {
      "text/plain": [
       "0"
      ]
     },
     "execution_count": 4,
     "metadata": {},
     "output_type": "execute_result"
    }
   ],
   "source": [
    "import sys\n",
    "sys.path.append('./src/')\n",
    "import GrowthSimulation\n",
    "import os\n",
    "\n",
    "dir_input = './example/'\n",
    "dir_output = './example/'\n",
    "command = f'python3 src/GrowthSimulation.py -t {dir_input}simu_input_time_points.csv -s {dir_input}simu_input_fitness.csv -o {dir_output}simu_output'\n",
    "os.system(command)\n"
   ]
  },
  {
   "cell_type": "code",
   "execution_count": 6,
   "id": "20423328-8dae-4f69-9744-9795d4013873",
   "metadata": {},
   "outputs": [
    {
     "name": "stdout",
     "output_type": "stream",
     "text": [
      "--- iteration 1 ...\n"
     ]
    },
    {
     "name": "stderr",
     "output_type": "stream",
     "text": [
      "100%|██████████| 1000/1000 [02:15<00:00,  7.40it/s]\n"
     ]
    },
    {
     "name": "stdout",
     "output_type": "stream",
     "text": [
      "    computing time: 136.81222 seconds\n",
      "--- iteration 2 ...\n"
     ]
    },
    {
     "name": "stderr",
     "output_type": "stream",
     "text": [
      "100%|██████████| 1000/1000 [02:24<00:00,  6.93it/s]\n"
     ]
    },
    {
     "name": "stdout",
     "output_type": "stream",
     "text": [
      "6080.968236086195\n",
      "    computing time: 145.81221 seconds\n",
      "--- iteration 3 ...\n"
     ]
    },
    {
     "name": "stderr",
     "output_type": "stream",
     "text": [
      "100%|██████████| 1000/1000 [02:24<00:00,  6.90it/s]\n"
     ]
    },
    {
     "name": "stdout",
     "output_type": "stream",
     "text": [
      "674.8987623648736\n",
      "    computing time: 146.37868 seconds\n",
      "Total computing time: 429.00411 seconds\n"
     ]
    },
    {
     "data": {
      "text/plain": [
       "0"
      ]
     },
     "execution_count": 6,
     "metadata": {},
     "output_type": "execute_result"
    }
   ],
   "source": [
    "import os\n",
    "\n",
    "dir_input = './example/'\n",
    "dir_output = './example/'\n",
    "\n",
    "command = f'python3 src/FitSeq2.py -i {dir_input}simu_output_2_EvoSimulation_Read_Number.csv -t {dir_input}fitseq2_input_time_points.csv -dt 4 -n 3 -o {dir_output}output -p 0'\n",
    "# print(command)\n",
    "os.system(command)"
   ]
  },
  {
   "cell_type": "code",
   "execution_count": 7,
   "id": "9b18027e-c27a-4b48-b488-8f9c59c2540b",
   "metadata": {},
   "outputs": [
    {
     "name": "stdout",
     "output_type": "stream",
     "text": [
      "--- iteration 1 ...\n"
     ]
    },
    {
     "name": "stderr",
     "output_type": "stream",
     "text": [
      "100%|██████████| 1000/1000 [00:02<00:00, 421.24it/s]\n",
      "  5%|▌         | 51/1000 [00:00<00:01, 499.11it/s]"
     ]
    },
    {
     "name": "stdout",
     "output_type": "stream",
     "text": [
      "    computing time: 2.43524 seconds\n",
      "--- iteration 2 ...\n"
     ]
    },
    {
     "name": "stderr",
     "output_type": "stream",
     "text": [
      "100%|██████████| 1000/1000 [00:02<00:00, 488.70it/s]\n"
     ]
    },
    {
     "name": "stdout",
     "output_type": "stream",
     "text": [
      "5678.925423857603\n",
      "    computing time: 2.09424 seconds\n",
      "--- iteration 3 ...\n"
     ]
    },
    {
     "name": "stderr",
     "output_type": "stream",
     "text": [
      "100%|██████████| 1000/1000 [00:02<00:00, 492.49it/s]\n"
     ]
    },
    {
     "name": "stdout",
     "output_type": "stream",
     "text": [
      "1231.4763738338297\n",
      "    computing time: 2.09857 seconds\n",
      "Total computing time: 6.62898 seconds\n"
     ]
    },
    {
     "data": {
      "text/plain": [
       "0"
      ]
     },
     "execution_count": 7,
     "metadata": {},
     "output_type": "execute_result"
    }
   ],
   "source": [
    "import os\n",
    "\n",
    "dir_input = './example/'\n",
    "dir_output = './example/'\n",
    "\n",
    "command = f'python3 src/FitSeq.py -i {dir_input}simu_output_2_EvoSimulation_Read_Number.csv -t {dir_input}fitseq2_input_time_points.csv -n 3 -o {dir_output}output -p 0'\n",
    "\n",
    "os.system(command)"
   ]
  },
  {
   "cell_type": "code",
   "execution_count": null,
   "id": "8955362b-e1e4-47d9-8e4f-1ce873cbb9d1",
   "metadata": {},
   "outputs": [],
   "source": []
  }
 ],
 "metadata": {
  "kernelspec": {
   "display_name": "Python 3",
   "language": "python",
   "name": "python3"
  },
  "language_info": {
   "codemirror_mode": {
    "name": "ipython",
    "version": 3
   },
   "file_extension": ".py",
   "mimetype": "text/x-python",
   "name": "python",
   "nbconvert_exporter": "python",
   "pygments_lexer": "ipython3",
   "version": "3.9.0"
  }
 },
 "nbformat": 4,
 "nbformat_minor": 5
}
