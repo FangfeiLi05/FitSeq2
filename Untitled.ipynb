{
 "cells": [
  {
   "cell_type": "code",
   "execution_count": 4,
   "id": "718c9f3d-dfe8-47a2-a68c-ac89b7520aa7",
   "metadata": {},
   "outputs": [
    {
     "name": "stderr",
     "output_type": "stream",
     "text": [
      "100%|██████████| 21/21 [00:03<00:00,  6.35it/s]\n"
     ]
    },
    {
     "data": {
      "text/plain": [
       "0"
      ]
     },
     "execution_count": 4,
     "metadata": {},
     "output_type": "execute_result"
    }
   ],
   "source": [
    "#import GrowthSimulation\n",
    "import os\n",
    "\n",
    "dir_input = './example/'\n",
    "dir_output = './example/'\n",
    "command = 'GrowthSimulation.py -t {0}simu_input_time_points.csv -s {0}simu_input_fitness.csv -o {1}output'.format(\n",
    "      dir_input, \n",
    "      dir_output)\n",
    "os.system(command)\n"
   ]
  },
  {
   "cell_type": "code",
   "execution_count": null,
   "id": "20423328-8dae-4f69-9744-9795d4013873",
   "metadata": {},
   "outputs": [],
   "source": []
  }
 ],
 "metadata": {
  "kernelspec": {
   "display_name": "fitseq2",
   "language": "python",
   "name": "fitseq2"
  },
  "language_info": {
   "codemirror_mode": {
    "name": "ipython",
    "version": 3
   },
   "file_extension": ".py",
   "mimetype": "text/x-python",
   "name": "python",
   "nbconvert_exporter": "python",
   "pygments_lexer": "ipython3",
   "version": "3.12.2"
  }
 },
 "nbformat": 4,
 "nbformat_minor": 5
}
